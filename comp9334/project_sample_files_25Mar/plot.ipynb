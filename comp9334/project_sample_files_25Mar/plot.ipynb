{
 "cells": [
  {
   "cell_type": "code",
   "execution_count": 57,
   "metadata": {},
   "outputs": [],
   "source": [
    "import random\n",
    "import numpy as np\n",
    "from matplotlib import pyplot as plt\n",
    "import math\n",
    "from jobclass import *\n",
    "import seaborn as sns\n",
    "from main import *"
   ]
  },
  {
   "attachments": {},
   "cell_type": "markdown",
   "metadata": {},
   "source": [
    "num_of_server = 6\n",
    "lamda = 3.1\n",
    "alpha2l=0.91\n",
    "alpha2u=1.27\n",
    "servers={\"p1\":0.32,\"p2\":0.21,\"p3\":0.15,\"p4\":0.08,\"p5\":0.24}"
   ]
  },
  {
   "cell_type": "code",
   "execution_count": 58,
   "metadata": {},
   "outputs": [],
   "source": [
    "%matplotlib inline\n",
    "sns.set_style('darkgrid')\n",
    "\n",
    "alpha = 0.4\n",
    "beta = 4.5\n"
   ]
  },
  {
   "cell_type": "code",
   "execution_count": 59,
   "metadata": {},
   "outputs": [
    {
     "name": "stdout",
     "output_type": "stream",
     "text": [
      "number of jobs is 713\n"
     ]
    },
    {
     "data": {
      "image/png": "[encoded data removed]",
      "text/plain": [
       "<Figure size 432x288 with 1 Axes>"
      ]
     },
     "metadata": {},
     "output_type": "display_data"
    },
    {
     "name": "stdout",
     "output_type": "stream",
     "text": [
      "mean arrival time is:1.3993019096744173\n"
     ]
    }
   ],
   "source": [
    "%matplotlib inline\n",
    "sns.set_style('darkgrid')\n",
    "\n",
    "inter_arrival_time_list = []\n",
    "#arrival_time_list = []\n",
    "time_end = 1000\n",
    "seed = 1\n",
    "alpha2l=0.91\n",
    "alpha2u=1.27\n",
    "random.seed(seed)\n",
    "\n",
    "nb_of_jobs = 0\n",
    "alpha = 0.4\n",
    "beta = 4.5\n",
    "Lambda = 0.8\n",
    "cumulative_T = 0.0\n",
    "while cumulative_T < time_end:\n",
    "    random_arrival = random.expovariate(Lambda)*random.uniform(alpha2l,alpha2u)\n",
    "    if random_arrival == 0:   \n",
    "        continue\n",
    "    cumulative_T += random_arrival\n",
    "    if cumulative_T > time_end:\n",
    "        break\n",
    "    inter_arrival_time_list.append(random_arrival)\n",
    "    #arrival_time_list.append(cumulative_T)\n",
    "    nb_of_jobs += 1\n",
    "server_T = np.random.uniform(0,1,len(inter_arrival_time_list))\n",
    "print(f'number of jobs is {nb_of_jobs}')\n",
    "plt.hist(inter_arrival_time_list, bins=50,density=True)\n",
    "plt.xlabel('Inter-arrival time, Lambda = 0.8')\n",
    "plt.show()\n",
    "mean_arrival_time = sum(inter_arrival_time_list[:nb_of_jobs])/nb_of_jobs\n",
    "print(f\"mean arrival time is:{mean_arrival_time}\")\n"
   ]
  },
  {
   "cell_type": "code",
   "execution_count": 60,
   "metadata": {},
   "outputs": [
    {
     "data": {
      "image/png": "[encoded data removed]",
      "text/plain": [
       "<Figure size 432x288 with 1 Axes>"
      ]
     },
     "metadata": {},
     "output_type": "display_data"
    }
   ],
   "source": [
    "randomservisetime = []\n",
    "for  i in range(1500):\n",
    "    randomservisetime.append(get_server_time(alpha, beta))\n",
    "def g(t):\n",
    "    gama = (beta - 1) / (alpha ** (1 - beta))\n",
    "    return gama/(t**(beta))\n",
    "x = np.linspace(alpha+0.01, 2, 100)\n",
    "y = g(x)\n",
    "plt.plot(x, y,label='g(t)')\n",
    "plt.hist(randomservisetime, bins=50, density=True,label='servise time')\n",
    "plt.legend()\n",
    "plt.show()\n"
   ]
  },
  {
   "cell_type": "code",
   "execution_count": 61,
   "metadata": {},
   "outputs": [
    {
     "data": {
      "text/plain": [
       "[<matplotlib.lines.Line2D at 0x1da8f04a0b8>]"
      ]
     },
     "execution_count": 61,
     "metadata": {},
     "output_type": "execute_result"
    },
    {
     "data": {
      "image/png": "[encoded data removed]",
      "text/plain": [
       "<Figure size 432x288 with 1 Axes>"
      ]
     },
     "metadata": {},
     "output_type": "display_data"
    }
   ],
   "source": [
    "def tentimes(cumulative_T,seed):\n",
    "    random.seed(seed)\n",
    "    nb_of_jobs = 0\n",
    "    while cumulative_T < time_end:\n",
    "        random_arrival = random.expovariate(Lambda)*random.uniform(alpha2l,alpha2u)\n",
    "        if random_arrival == 0:   \n",
    "            continue\n",
    "        cumulative_T += random_arrival\n",
    "        if cumulative_T > time_end:\n",
    "            break\n",
    "        inter_arrival_time_list.append(random_arrival)\n",
    "        #arrival_time_list.append(cumulative_T)\n",
    "        nb_of_jobs += 1\n",
    "    return nb_of_jobs\n",
    "list = []\n",
    "cumulative_T = 0.0\n",
    "for i in range(10):\n",
    "    list.append(tentimes(cumulative_T,seed))\n",
    "    cumulative_T = 0.0\n",
    "x = np.linspace(0, 10, 10)\n",
    "y = list\n",
    "plt.plot(x, y,label='tentimes')"
   ]
  },
  {
   "cell_type": "code",
   "execution_count": 68,
   "metadata": {},
   "outputs": [],
   "source": [
    "\n",
    "def serviceTimeSampling(alpha, beta):\n",
    "    gama = (beta - 1) / (alpha ** (1 - beta))\n",
    "    while True:\n",
    "        x = random.uniform(alpha, 2)\n",
    "        y = random.uniform(0, gama / (alpha ** beta) + 1)\n",
    "        if y <= gama / (x ** beta):\n",
    "            return x\n",
    "\n",
    "def randomsimulator(Lambda, alpha2l, alpha2u, p, et, alpha, beta):\n",
    "    \n",
    "    cumulative_T = .0\n",
    "    arrival = []\n",
    "\n",
    "    while cumulative_T < et:\n",
    "        Arrival = random.expovariate(Lambda) * (random.uniform(alpha2l, alpha2u))\n",
    "        arrival.append(Arrival)\n",
    "        cumulative_T += Arrival\n",
    "    cumulative_P = np.cumsum(p)\n",
    "    n = len(arrival)\n",
    "    server_T = np.random.uniform(0, 1, n)\n",
    "    for i in range(p.size - 1):\n",
    "        server_T[(cumulative_P[i] <\n",
    "                          server_T) & (server_T <= cumulative_P[i + 1])] = i + 2.\n",
    "    server_T[(server_T <= cumulative_P[0])] = 1.0\n",
    "    service = np.zeros((len(arrival), int(server_T.max())))\n",
    "    service[service == 0] = np.nan\n",
    "\n",
    "    for x, visit in enumerate(server_T):\n",
    "        for y in range(int(visit)):\n",
    "            service[x][y] = serviceTimeSampling(alpha, beta)\n",
    "\n",
    "    return arrival, service\n",
    "beta, alpha = 3.4, 0.3\n",
    "n, end_time = 6, 1000.0\n",
    "p = np.array([0.32, 0.21, 0.15, 0.08, 0.24])\n",
    "Lambda, alpha2l, alpha2u = 3.1, 0.91, 1.27\n"
   ]
  },
  {
   "cell_type": "code",
   "execution_count": 69,
   "metadata": {},
   "outputs": [
    {
     "name": "stdout",
     "output_type": "stream",
     "text": [
      "[1.4045156420748357, 1.4108086772712896, 1.4159661177566458, 1.4204246974373578, 1.4007954787758388, 1.4007954787758388]\n"
     ]
    },
    {
     "data": {
      "text/plain": [
       "[<matplotlib.lines.Line2D at 0x1da8dc637b8>]"
      ]
     },
     "execution_count": 69,
     "metadata": {},
     "output_type": "execute_result"
    },
    {
     "data": {
      "image/png": "[encoded data removed]",
      "text/plain": [
       "<Figure size 432x288 with 1 Axes>"
      ]
     },
     "metadata": {},
     "output_type": "display_data"
    }
   ],
   "source": [
    "def loadvalue(Job_list, s,dispatcher):\n",
    "\n",
    "    dispatcher.simulate(Job_list, s)\n",
    "    response = []\n",
    "    for i in Job_list:\n",
    "        response.append(i.responseTime)\n",
    "    mrt = np.array(response).mean()\n",
    "    \n",
    "    return mrt\n",
    "mrt = []\n",
    "interArrival, service = randomsimulator(Lambda, alpha2l, alpha2u, p, end_time, alpha, beta)\n",
    "for h in range(1, n+1):\n",
    "    allJob = []\n",
    "    nextArrival = 0.0\n",
    "    for i, interval in enumerate(interArrival):\n",
    "        nextArrival += interval\n",
    "        idx = i + 1\n",
    "        totalVisitTime = (~np.isnan(service[i])).sum()\n",
    "        serviceTime = service[i]\n",
    "        allJob.append(Job(index=idx, arrivalTime=nextArrival, serviceTime=serviceTime, totalVisitTime=totalVisitTime))\n",
    "\n",
    "    dispatcher = Dispatcher(h, n)\n",
    "    mrt.append(loadvalue(allJob,11,dispatcher))\n",
    "print(mrt)\n",
    "plt.plot([i for i in range(1,n+1)],mrt)"
   ]
  }
 ],
 "metadata": {
  "kernelspec": {
   "display_name": "Python 3",
   "language": "python",
   "name": "python3"
  },
  "language_info": {
   "codemirror_mode": {
    "name": "ipython",
    "version": 3
   },
   "file_extension": ".py",
   "mimetype": "text/x-python",
   "name": "python",
   "nbconvert_exporter": "python",
   "pygments_lexer": "ipython3",
   "version": "3.7.3"
  },
  "orig_nbformat": 4
 },
 "nbformat": 4,
 "nbformat_minor": 2
}
